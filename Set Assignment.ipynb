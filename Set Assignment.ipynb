{
 "cells": [
  {
   "cell_type": "code",
   "execution_count": 1,
   "id": "ddc355b0-d074-4eba-8e4a-d0e778ce69f8",
   "metadata": {},
   "outputs": [],
   "source": [
    "#Q1. What is a set in Python ?"
   ]
  },
  {
   "cell_type": "code",
   "execution_count": 2,
   "id": "e5ad9ad3-959f-40e6-b103-13f2b0d191e1",
   "metadata": {},
   "outputs": [],
   "source": [
    "#Ans In Python , a set is an unordered collection of unique elements. Sets are mutable,meaning you can add or remove elements after the set has been created. They are defined using curly braces {} or the set () function. Sets are particularly useful for oprations involving membership tests,eliminating duplicate entries,and performing mathematical oprations like union,intersection,and difference."
   ]
  },
  {
   "cell_type": "code",
   "execution_count": 1,
   "id": "078434af-72be-424f-9bae-8c4f70a0e0c9",
   "metadata": {},
   "outputs": [],
   "source": [
    "#For Example"
   ]
  },
  {
   "cell_type": "code",
   "execution_count": 1,
   "id": "135251e8-b991-4a81-bf19-2c75862f91d9",
   "metadata": {},
   "outputs": [],
   "source": [
    "s = {1,2,3,4,5,6}"
   ]
  },
  {
   "cell_type": "code",
   "execution_count": 2,
   "id": "b9b20666-8fd7-470d-a54a-d559c6f8f06b",
   "metadata": {},
   "outputs": [],
   "source": [
    "#Q2. How do you create a set in Python?"
   ]
  },
  {
   "cell_type": "code",
   "execution_count": 1,
   "id": "7b6d9220-93c3-4525-88a6-eb900573b49a",
   "metadata": {},
   "outputs": [],
   "source": [
    "#Ans "
   ]
  },
  {
   "cell_type": "code",
   "execution_count": 9,
   "id": "21f61eab-4270-47ff-9646-f0153f5c2bf1",
   "metadata": {},
   "outputs": [],
   "source": [
    "s = {1,2,3,4,5,\"Rahul\",\"Data\",\"Pwskills\"}"
   ]
  },
  {
   "cell_type": "code",
   "execution_count": 10,
   "id": "522382d7-0b90-4be7-b92b-0d8830262346",
   "metadata": {},
   "outputs": [
    {
     "data": {
      "text/plain": [
       "{1, 2, 3, 4, 5, 'Data', 'Pwskills', 'Rahul'}"
      ]
     },
     "execution_count": 10,
     "metadata": {},
     "output_type": "execute_result"
    }
   ],
   "source": [
    "s"
   ]
  },
  {
   "cell_type": "code",
   "execution_count": 11,
   "id": "82f72db9-580e-44b5-a667-2900f44f8180",
   "metadata": {},
   "outputs": [],
   "source": [
    "#Q3.How do you add elements to a set in python ?"
   ]
  },
  {
   "cell_type": "code",
   "execution_count": 12,
   "id": "b4a30232-d521-400c-81fc-0e3a7acfd40c",
   "metadata": {},
   "outputs": [],
   "source": [
    "#Ans"
   ]
  },
  {
   "cell_type": "code",
   "execution_count": 17,
   "id": "89812a79-3033-4800-b00a-063ce5a8ee05",
   "metadata": {},
   "outputs": [],
   "source": [
    "s = {1,2,3,4,5,\"Radha\",\"Sham\",\"Kishori\"}"
   ]
  },
  {
   "cell_type": "code",
   "execution_count": 19,
   "id": "cb2a1a68-f025-4a7c-be85-48127dd582cc",
   "metadata": {},
   "outputs": [],
   "source": [
    "s.add(\"Madhav\")"
   ]
  },
  {
   "cell_type": "code",
   "execution_count": 20,
   "id": "5658c57f-c00a-4170-8eca-55a8b01f688b",
   "metadata": {},
   "outputs": [
    {
     "data": {
      "text/plain": [
       "{1, 2, 3, 4, 5, 'Kishori', 'Madhav', 'Pwskills', 'Radha', 'Sham'}"
      ]
     },
     "execution_count": 20,
     "metadata": {},
     "output_type": "execute_result"
    }
   ],
   "source": [
    "s"
   ]
  },
  {
   "cell_type": "code",
   "execution_count": 21,
   "id": "b53bbb25-e2d2-45dc-8192-978dbdc6a3d0",
   "metadata": {},
   "outputs": [],
   "source": [
    "#Q4. How do you remove elements from a set in python ?"
   ]
  },
  {
   "cell_type": "code",
   "execution_count": 23,
   "id": "01918c22-7678-4c6f-8d23-32aefbac511a",
   "metadata": {},
   "outputs": [],
   "source": [
    "#Ans"
   ]
  },
  {
   "cell_type": "code",
   "execution_count": 24,
   "id": "eea3989c-ab6d-47e2-a27a-85164c3c9258",
   "metadata": {},
   "outputs": [],
   "source": [
    "s = {1,2,3,4,5,\"Shama\",\"Radha\",\"Govardhan\"}"
   ]
  },
  {
   "cell_type": "code",
   "execution_count": 26,
   "id": "429c42f8-653d-4304-b5bd-84f5fab37a34",
   "metadata": {},
   "outputs": [],
   "source": [
    "s.remove(\"Govardhan\")"
   ]
  },
  {
   "cell_type": "code",
   "execution_count": 27,
   "id": "c5fb6999-840b-477a-b77c-fb35278223d6",
   "metadata": {},
   "outputs": [
    {
     "data": {
      "text/plain": [
       "{1, 2, 3, 4, 5, 'Radha', 'Shama'}"
      ]
     },
     "execution_count": 27,
     "metadata": {},
     "output_type": "execute_result"
    }
   ],
   "source": [
    "s"
   ]
  },
  {
   "cell_type": "code",
   "execution_count": 28,
   "id": "6e8c97fb-223c-4efa-9140-8f3d6cb06268",
   "metadata": {},
   "outputs": [],
   "source": [
    "#Q5. How do you get the length of a set in python ?"
   ]
  },
  {
   "cell_type": "code",
   "execution_count": 29,
   "id": "d683e1e6-6029-4741-aac3-53fa1050d042",
   "metadata": {},
   "outputs": [],
   "source": [
    "#Ans"
   ]
  },
  {
   "cell_type": "code",
   "execution_count": 30,
   "id": "eb157d85-4331-4d93-8bac-d6f714ef5c58",
   "metadata": {},
   "outputs": [],
   "source": [
    "s = {1,2,3,4,5,\"Radha\",\"Madhav\",\"Python\"}"
   ]
  },
  {
   "cell_type": "code",
   "execution_count": 35,
   "id": "39deadc6-a026-477c-b04d-f843e46c1df3",
   "metadata": {},
   "outputs": [],
   "source": [
    "s = len(s)"
   ]
  },
  {
   "cell_type": "code",
   "execution_count": 36,
   "id": "35ab9eab-f168-4ba7-92c3-e2957f7b8726",
   "metadata": {},
   "outputs": [
    {
     "data": {
      "text/plain": [
       "8"
      ]
     },
     "execution_count": 36,
     "metadata": {},
     "output_type": "execute_result"
    }
   ],
   "source": [
    "s"
   ]
  },
  {
   "cell_type": "code",
   "execution_count": null,
   "id": "a01cbc0a-af8e-4ed7-82b6-f15b2ec0881e",
   "metadata": {},
   "outputs": [],
   "source": []
  }
 ],
 "metadata": {
  "kernelspec": {
   "display_name": "Python 3 (ipykernel)",
   "language": "python",
   "name": "python3"
  },
  "language_info": {
   "codemirror_mode": {
    "name": "ipython",
    "version": 3
   },
   "file_extension": ".py",
   "mimetype": "text/x-python",
   "name": "python",
   "nbconvert_exporter": "python",
   "pygments_lexer": "ipython3",
   "version": "3.10.8"
  }
 },
 "nbformat": 4,
 "nbformat_minor": 5
}
